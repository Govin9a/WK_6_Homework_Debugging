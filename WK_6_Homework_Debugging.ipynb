{
 "cells": [
  {
   "cell_type": "code",
   "execution_count": 2,
   "id": "7c97fcff",
   "metadata": {},
   "outputs": [
    {
     "name": "stdout",
     "output_type": "stream",
     "text": [
      "We are making an error in the loop\n",
      "We are making an error in the loop\n",
      "We are making an error in the loop\n",
      "We are making an error in the loop\n",
      "We are making an error in the loop\n",
      "We are making an error in the loop\n",
      "We are making an error in the loop\n",
      "We are making an error in the loop\n",
      "We are making an error in the loop\n",
      "correct answer is supposed to be[2, 3, 4]\n"
     ]
    },
    {
     "data": {
      "text/plain": [
       "[6, 9, 12]"
      ]
     },
     "execution_count": 2,
     "metadata": {},
     "output_type": "execute_result"
    }
   ],
   "source": [
    "#1.a\n",
    "def wrong_add_function(arg1,arg2):\n",
    "    ans = [2,3,4]\n",
    "    arg1_index=0\n",
    "    while arg1_index < len(arg1):\n",
    "        arg_2_sum = 0\n",
    "        for arg2_elements in arg2:\n",
    "            arg_2_sum = sum([arg1[arg1_index]+i for i in arg2])\n",
    "            print (\"We are making an error in the loop\")\n",
    "        arg1[arg1_index] = arg_2_sum\n",
    "        arg1_index+=1\n",
    "    print(f\"correct answer is supposed to be{ans}\")\n",
    "    return arg1\n",
    "arg1 = [1,2,3]\n",
    "arg2 = [1,1,1]\n",
    "wrong_add_function(arg1, arg2)\n",
    "#The correct answer is supposed to be [2,3,4]#"
   ]
  },
  {
   "cell_type": "code",
   "execution_count": 2,
   "id": "49f79c72",
   "metadata": {},
   "outputs": [
    {
     "data": {
      "text/plain": [
       "[2, 3, 4]"
      ]
     },
     "execution_count": 2,
     "metadata": {},
     "output_type": "execute_result"
    }
   ],
   "source": [
    "#1.b\n",
    "def correct_add_function(arg1,arg2):\n",
    "    arg1_index=0\n",
    "    while arg1_index < len(arg1):\n",
    "        arg_2_sum = 0\n",
    "        for arg2_elements in arg2:\n",
    "            #arg_2_sum = sum([arg1[arg1_index]+i for i in arg2])\n",
    "            arg_2_sum = sum([arg1[arg1_index]+arg2[i] for i in range(len(arg2)) if i==arg1_index])\n",
    "        arg1[arg1_index] = arg_2_sum\n",
    "        arg1_index+=1\n",
    "    return arg1\n",
    "arg1 = [1,2,3]\n",
    "arg2 = [1,1,1]\n",
    "correct_add_function(arg1, arg2)"
   ]
  },
  {
   "cell_type": "code",
   "execution_count": 60,
   "id": "2973dc8f",
   "metadata": {},
   "outputs": [
    {
     "name": "stdout",
     "output_type": "stream",
     "text": [
      "None\n"
     ]
    }
   ],
   "source": [
    "#2.a\n",
    "def wrong_add_function(arg1,arg2):\n",
    "   #numeric section\n",
    "   if sum([type(i)==int for i in arg1])==len(arg1) and \\\n",
    "      sum([type(i)==int for i in arg2])==len(arg2):\n",
    "         arg1_index=0\n",
    "         while a1_index < len(arg1):\n",
    "            a_2_sum = 0\n",
    "            for a2_elements in arg2:\n",
    "               a_2_sum = sum([arg1[arg1_index]+ arg2[i] for i in range(len(arg2)) if i == a1_index])\n",
    "            arg1[a1_index]=a_2_sum  \n",
    "            a1_index+=1\n",
    "         return arg1\n",
    "   #string section\n",
    "   elif sum([type(i)==str for i in arg1])==len(arg1) and \\\n",
    "      sum([type(i)==str for i in arg2])==len(arg2):\n",
    "         arg1_index=0\n",
    "         while arg1_index < len(arg1):\n",
    "            arg_2_sum = ''\n",
    "            for arg2_elements in arg2:\n",
    "               arg_2_sum += arg2_elements\n",
    "            arg1[arg1_index]=arg1[arg1_index]+str(arg_2_sum)\n",
    "            arg1_index+=1\n",
    "         return arg1\n",
    "\n",
    "arg_str_1=['1','2','3']\n",
    "arg_str_2=['1','1', 1]\n",
    "\n",
    "print(wrong_add_function(arg_str_1,arg_str_2))"
   ]
  },
  {
   "cell_type": "code",
   "execution_count": 61,
   "id": "2759bac0",
   "metadata": {},
   "outputs": [
    {
     "name": "stdout",
     "output_type": "stream",
     "text": [
      "Your input argument ['1', '1', 1] at element 2 is not of the expected type. Please change this and return\n",
      "None\n"
     ]
    }
   ],
   "source": [
    "#2.b\n",
    "#Without modifying the string section code itself or the input directly, \n",
    "#write a try, except block that catches the issue with the input below and \n",
    "#returns an error message to the user, in case users give invalid inputs,\n",
    "#(for example an input of [\"5\",\"2\", 5])\n",
    "#: \"Your input argument [1 or 2] at element [n]\n",
    "#is not of the expected type. Please change this and rerun. Name this function \n",
    "#exception_add_function()\n",
    "\n",
    "def wrong_add_function(arg1,arg2):\n",
    "\n",
    "   def exception_add_function(input):\n",
    "      for x,y in enumerate(input):\n",
    "         try: \n",
    "            count = type(y) == str   \n",
    "            if count != True:\n",
    "               raise TypeError       \n",
    "         except TypeError:\n",
    "            print(f\"Your input argument {input} at element {x} is not of the expected type. Please change this and return\")\n",
    "\n",
    "\n",
    "   #numeric section\n",
    "   if sum([type(a)==int for a in arg1])==len(arg1) and \\\n",
    "      sum([type(a)==int for a in arg2])==len(arg2):\n",
    "         arg1_index=0\n",
    "         while a1_index < len(arg1):\n",
    "            a_2_sum = 0\n",
    "            for a2_elements in arg2:\n",
    "               a_2_sum = sum([arg1[arg1_index]+ arg2[i] for i in range(len(arg2)) if i == a1_index])\n",
    "            arg1[a1_index]=a_2_sum  \n",
    "            a1_index+=1\n",
    "         return arg1\n",
    "   #string section\n",
    "   elif sum([type(i)==str for i in arg1])==len(arg1) and \\\n",
    "      sum([type(i)==str for i in arg2])==len(arg2):\n",
    "         arg1_index=0\n",
    "         while arg1_index < len(arg1):\n",
    "            arg_2_sum = ''\n",
    "            for arg2_elements in arg2:\n",
    "               arg_2_sum += arg2_elements\n",
    "            arg1[arg1_index]=arg1[arg1_index]+str(arg_2_sum)\n",
    "            arg1_index+=1\n",
    "         return arg1\n",
    "\n",
    "   else: \n",
    "      exception_add_function(arg1)\n",
    "      exception_add_function(arg2)   \n",
    "\n",
    "\n",
    "\n",
    "\n",
    "arg_str_1=['1','2','3']\n",
    "\n",
    "arg_str_2=['1','1', 1]\n",
    "\n",
    "print(wrong_add_function(arg_str_1,arg_str_2))\n",
    "    "
   ]
  },
  {
   "cell_type": "code",
   "execution_count": 66,
   "id": "d7187c53",
   "metadata": {},
   "outputs": [
    {
     "name": "stdout",
     "output_type": "stream",
     "text": [
      "['1111', '2111', '3111']\n"
     ]
    }
   ],
   "source": [
    "#2.c\n",
    "#Without modifying the string section code itself or the input directly, \n",
    "#write a try, except block that catches the issue with the input below and \n",
    "#gets it to process via the string section. IE, do not, outside the function,\n",
    "#change the values of arg_str_1 or arg_str_2. Name this function \n",
    "#correction_add_function(), i.e you will not be updating the wrong_add_function,\n",
    "#you will simply handle the error of wrong inputs in a seperate function, you want\n",
    "#the wrong_add_function to output its current result you are only bolstering the \n",
    "#function for edge cases .\n",
    "\n",
    "def wrong_add_function(arg1,arg2):\n",
    "\n",
    "   def correct_add_function(arg1, arg2):\n",
    "\n",
    "        for x,y in enumerate(arg1):\n",
    "            try:\n",
    "                c = type(y) == str\n",
    "                if c != True: raise TypeError\n",
    "            except TypeError:\n",
    "                arg1 = ([str(y) for x,y in enumerate(arg1)])\n",
    "        for a,b in enumerate(arg2):\n",
    "            try:\n",
    "                c = type(b) == str\n",
    "                if c != True: raise TypeError\n",
    "            except TypeError:\n",
    "                arg2 = ([str(b) for a,b in enumerate(arg2)])\n",
    "\n",
    "                \n",
    "        a1_index=0\n",
    "        while a1_index < len(arg1):\n",
    "            a_2_sum = ''\n",
    "            for a2_elements in arg2:\n",
    "                a_2_sum += a2_elements\n",
    "            arg1[a1_index]=arg1[a1_index]+str(a_2_sum)\n",
    "            a1_index+=1        \n",
    "        return arg1\n",
    "\n",
    "   #numeric section\n",
    "   if sum([type(i)==int for i in arg1])==len(arg1) and \\\n",
    "      sum([type(i)==int for i in arg2])==len(arg2):\n",
    "         arg1_index=0\n",
    "         while a1_index < len(arg1):\n",
    "            a_2_sum = 0\n",
    "            for a2_elements in arg2:\n",
    "               a_2_sum = sum([arg1[arg1_index]+ arg2[i] for i in range(len(arg2)) if i == a1_index])\n",
    "            arg1[a1_index]=a_2_sum  \n",
    "            a1_index+=1\n",
    "         return arg1\n",
    "   #string section\n",
    "   elif sum([type(i)==str for i in arg1])==len(arg1) and \\\n",
    "      sum([type(i)==str for i in arg2])==len(arg2):\n",
    "         arg1_index=0\n",
    "         while arg1_index < len(arg1):\n",
    "            arg_2_sum = ''\n",
    "            for arg2_elements in arg2:\n",
    "               arg_2_sum += arg2_elements\n",
    "            arg1[arg1_index]=arg1[arg1_index]+str(arg_2_sum)\n",
    "            arg1_index+=1\n",
    "         return arg\n",
    "   else: \n",
    "      print(correct_add_function(arg1,arg2))\n",
    "\n",
    "\n",
    "arg_str_1=['1','2','3']\n",
    "arg_str_2=['1','1', 1]\n",
    "\n",
    "\n",
    "wrong_add_function(arg_str_1,arg_str_2)"
   ]
  },
  {
   "cell_type": "code",
   "execution_count": null,
   "id": "b20dfe31",
   "metadata": {},
   "outputs": [],
   "source": []
  }
 ],
 "metadata": {
  "kernelspec": {
   "display_name": "Python 3 (ipykernel)",
   "language": "python",
   "name": "python3"
  },
  "language_info": {
   "codemirror_mode": {
    "name": "ipython",
    "version": 3
   },
   "file_extension": ".py",
   "mimetype": "text/x-python",
   "name": "python",
   "nbconvert_exporter": "python",
   "pygments_lexer": "ipython3",
   "version": "3.9.12"
  }
 },
 "nbformat": 4,
 "nbformat_minor": 5
}
